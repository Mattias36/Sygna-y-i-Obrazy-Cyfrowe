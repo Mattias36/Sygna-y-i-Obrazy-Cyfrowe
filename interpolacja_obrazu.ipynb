{
  "cells": [
    {
      "cell_type": "code",
      "execution_count": null,
      "metadata": {
        "id": "MoI3XtEtmcbG"
      },
      "outputs": [],
      "source": [
        "import cv2\n",
        "import numpy as np\n",
        "from google.colab.patches import cv2_imshow\n"
      ]
    },
    {
      "cell_type": "code",
      "execution_count": null,
      "metadata": {
        "colab": {
          "base_uri": "https://localhost:8080/",
          "height": 238
        },
        "id": "2F440gsQpfP1",
        "outputId": "cb96a2dd-6244-409a-d791-4fffb647923d"
      },
      "outputs": [
        {
          "output_type": "display_data",
          "data": {
            "text/plain": [
              "<PIL.Image.Image image mode=RGB size=204x204>"
            ],
            "image/png": "[encoded data removed]"
          },
          "metadata": {}
        },
        {
          "output_type": "stream",
          "name": "stdout",
          "text": [
            "[0 0 0]\n"
          ]
        }
      ],
      "source": [
        "img = cv2.imread('/image.jpg')\n",
        "cv2_imshow(img)\n",
        "print(img[0,0])"
      ]
    },
    {
      "cell_type": "code",
      "execution_count": null,
      "metadata": {
        "id": "lr5MHhbqvNrP"
      },
      "outputs": [],
      "source": [
        "# zmniejszanie przy pomocy jadra konwolucji\n",
        "def resize_image_min(image, scale_factor):\n",
        "    height, width = image.shape[:2]\n",
        "\n",
        "\n",
        "    new_height = int(height - kernel_size + 1)\n",
        "    new_width = int(width - kernel_size + 1)\n",
        "\n",
        "    # tworzymy nowy pusty obraz z wyskalowanymi parametrami\n",
        "    resized_image = np.zeros((new_height, new_width), dtype=np.uint8)\n",
        "\n",
        "    for i in range(new_height):\n",
        "      for j in range(new_width):\n",
        "        resized_image[i, j] = np.sum(image[i:i+kernel_size, j:j+kernel_size] * scale_factor)\n",
        "\n",
        "\n",
        "\n",
        "    return resized_image\n",
        "\n",
        "img = cv2.imread('/image.jpg')\n",
        "if img is None:\n",
        "    raise ValueError(\"Error loading image.\")\n",
        "scale_factor = 1/2\n",
        "# obraz zmniejszy się w zależności od wielkości jądra jakie ustawimy\n",
        "kernel_size = 10\n",
        "resized_image_min = resize_image_min(img, scale_factor)"
      ]
    },
    {
      "cell_type": "code",
      "execution_count": null,
      "metadata": {
        "colab": {
          "base_uri": "https://localhost:8080/"
        },
        "id": "BDnBt51QwQw2",
        "outputId": "baa3ede5-1db8-4876-d6df-321116f502ad"
      },
      "outputs": [
        {
          "output_type": "execute_result",
          "data": {
            "text/plain": [
              "True"
            ]
          },
          "metadata": {},
          "execution_count": 68
        }
      ],
      "source": [
        "cv2.imwrite('resized_image.jpg', resized_image_min)"
      ]
    },
    {
      "cell_type": "code",
      "execution_count": null,
      "metadata": {
        "id": "kMri3RTTwTB6",
        "colab": {
          "base_uri": "https://localhost:8080/",
          "height": 416
        },
        "outputId": "2e50426a-01dc-424d-f32e-54d0678a029c"
      },
      "outputs": [
        {
          "output_type": "display_data",
          "data": {
            "text/plain": [
              "<PIL.Image.Image image mode=RGB size=204x204>"
            ],
            "image/png": "[encoded data removed]"
          },
          "metadata": {}
        },
        {
          "output_type": "display_data",
          "data": {
            "text/plain": [
              "<PIL.Image.Image image mode=L size=195x195>"
            ],
            "image/png": "[encoded data removed]"
          },
          "metadata": {}
        }
      ],
      "source": [
        "cv2_imshow(img)\n",
        "cv2_imshow(resized_image_min)\n",
        "cv2.waitKey(0)\n",
        "cv2.destroyAllWindows()"
      ]
    },
    {
      "cell_type": "code",
      "source": [
        "def resize_image_max(image, scale_factor):\n",
        "    height, width = image.shape[:2]\n",
        "\n",
        "    new_height = int(height * scale_factor)\n",
        "    new_width = int(width * scale_factor)\n",
        "\n",
        "    # tworzymy nowy pusty obraz z wyskalowanymi parametrami\n",
        "    enlarged_image = np.zeros((new_height, new_width), dtype=np.uint8)\n",
        "\n",
        "    for i in range(new_height):\n",
        "        for j in range(new_width):\n",
        "            # współrzędne w oryginalnym obrazie, przekształcone przy użyciu skali\n",
        "            original_i = int(i / scale_factor)\n",
        "            original_j = int(j / scale_factor)\n",
        "\n",
        "            # interpolacja punktów\n",
        "            enlarged_image[i, j] = image[original_i, original_j]\n",
        "\n",
        "    return enlarged_image\n",
        "\n",
        "img = cv2.imread('/image.jpg', cv2.IMREAD_GRAYSCALE)\n",
        "if img is None:\n",
        "    raise ValueError(\"Error loading image.\")\n",
        "\n",
        "# Skalowanie obrazu o współczynnik 2 (powiększenie dwukrotne)\n",
        "scale_factor = 2\n",
        "resized_image_max = resize_image_max(img, scale_factor)"
      ],
      "metadata": {
        "id": "sGM738GA0uq4"
      },
      "execution_count": null,
      "outputs": []
    },
    {
      "cell_type": "code",
      "source": [
        "cv2_imshow(img)\n",
        "cv2_imshow(resized_image_max)\n",
        "cv2.waitKey(0)\n",
        "cv2.destroyAllWindows()"
      ],
      "metadata": {
        "id": "DKqYFfc407Uk",
        "colab": {
          "base_uri": "https://localhost:8080/",
          "height": 629
        },
        "outputId": "1fccd616-db14-4020-c63c-d206a4e94575"
      },
      "execution_count": null,
      "outputs": [
        {
          "output_type": "display_data",
          "data": {
            "text/plain": [
              "<PIL.Image.Image image mode=L size=204x204>"
            ],
            "image/png": "[encoded data removed]"
          },
          "metadata": {}
        },
        {
          "output_type": "display_data",
          "data": {
            "text/plain": [
              "<PIL.Image.Image image mode=L size=408x408>"
            ],
            "image/png": "[encoded data removed]"
          },
          "metadata": {}
        }
      ]
    },
    {
      "cell_type": "code",
      "source": [
        "def mse(image1, image2):\n",
        "    # Dopasowanie rozmiarów obrazów\n",
        "    min_height = min(image1.shape[0], image2.shape[0])\n",
        "    min_width = min(image1.shape[1], image2.shape[1])\n",
        "    image1 = image1[:min_height, :min_width]\n",
        "    image2 = image2[:min_height, :min_width]\n",
        "\n",
        "    return np.sum((image1 - image2)**2) / float(image1.size)"
      ],
      "metadata": {
        "id": "bPRyxblC2x9l"
      },
      "execution_count": null,
      "outputs": []
    },
    {
      "cell_type": "code",
      "source": [
        "mse_down = mse(img, resized_image_min)\n",
        "mse_up = mse(img, resized_image_max)\n",
        "print(mse_down)\n",
        "print(mse_up)"
      ],
      "metadata": {
        "colab": {
          "base_uri": "https://localhost:8080/"
        },
        "id": "XkgFHQqe7gph",
        "outputId": "9e70cb4d-674d-4760-bd3f-b4f300a39d39"
      },
      "execution_count": null,
      "outputs": [
        {
          "output_type": "stream",
          "name": "stdout",
          "text": [
            "30.875713346482577\n",
            "9.892325067281815\n"
          ]
        }
      ]
    }
  ],
  "metadata": {
    "colab": {
      "provenance": []
    },
    "kernelspec": {
      "display_name": "Python 3",
      "name": "python3"
    },
    "language_info": {
      "name": "python"
    }
  },
  "nbformat": 4,
  "nbformat_minor": 0
}